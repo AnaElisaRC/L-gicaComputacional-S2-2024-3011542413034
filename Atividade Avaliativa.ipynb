{
 "cells": [
  {
   "cell_type": "code",
   "execution_count": 25,
   "metadata": {},
   "outputs": [
    {
     "name": "stdout",
     "output_type": "stream",
     "text": [
      "p  q  r  s  (p→q) (r→s) (p∨r) ((p→q)∧(r→s)∧(p∨r)) (q∨s) DC\n",
      "F  F  F  F    V      V      F         F                      F     V\n",
      "F  F  F  V    V      V      F         F                      V     V\n",
      "F  F  V  F    V      F      V         F                      F     V\n",
      "F  F  V  V    V      V      V         V                      V     V\n",
      "F  V  F  F    V      V      F         F                      V     V\n",
      "F  V  F  V    V      V      F         F                      V     V\n",
      "F  V  V  F    V      F      V         F                      V     V\n",
      "F  V  V  V    V      V      V         V                      V     V\n",
      "V  F  F  F    F      V      V         F                      F     V\n",
      "V  F  F  V    F      V      V         F                      V     V\n",
      "V  F  V  F    F      F      V         F                      F     V\n",
      "V  F  V  V    F      V      V         F                      V     V\n",
      "V  V  F  F    V      V      V         V                      V     V\n",
      "V  V  F  V    V      V      V         V                      V     V\n",
      "V  V  V  F    V      F      V         F                      V     V\n",
      "V  V  V  V    V      V      V         V                      V     V\n"
     ]
    }
   ],
   "source": [
    "# Cabeçalho da tabela-verdade\n",
    "print(\"p  q  r  s  (p→q) (r→s) (p∨r) ((p→q)∧(r→s)∧(p∨r)) (q∨s) DC\")\n",
    "\n",
    "# Todas as combinações possíveis de valores para p, q, r, s\n",
    "for p in [0, 1]:\n",
    "    for q in [0, 1]:\n",
    "        for r in [0, 1]:\n",
    "            for s in [0, 1]:\n",
    "                # Operações lógicas manualmente\n",
    "                # p → q: é falso apenas se p=1 e q=0, caso contrário é verdadeiro\n",
    "                if p == 1 and q == 0:\n",
    "                    imp_pq = 0\n",
    "                else:\n",
    "                    imp_pq = 1\n",
    "\n",
    "                # r → s: é falso apenas se r=1 e s=0, caso contrário é verdadeiro\n",
    "                if r == 1 and s == 0:\n",
    "                    imp_rs = 0\n",
    "                else:\n",
    "                    imp_rs = 1\n",
    "\n",
    "                # p ∨ r: é verdadeiro se qualquer um (p ou r) for 1\n",
    "                if p == 1 or r == 1:\n",
    "                    disj_pr = 1\n",
    "                else:\n",
    "                    disj_pr = 0\n",
    "\n",
    "                # conjunção: (p → q) ∧ (r → s) ∧ (p ∨ r)\n",
    "                if imp_pq == 1 and imp_rs == 1 and disj_pr == 1:\n",
    "                    conj = 1\n",
    "                else:\n",
    "                    conj = 0\n",
    "\n",
    "                # q ∨ s: é verdadeiro se qualquer um (q ou s) for 1\n",
    "                if q == 1 or s == 1:\n",
    "                    disj_qs = 1\n",
    "                else:\n",
    "                    disj_qs = 0\n",
    "\n",
    "                # Dilema Construtivo: ((p → q) ∧ (r → s) ∧ (p ∨ r)) → (q ∨ s)\n",
    "                if conj == 1 and disj_qs == 0:\n",
    "                    dilema_construtivo = 0\n",
    "                else:\n",
    "                    dilema_construtivo = 1\n",
    "\n",
    "                # Exibe a linha da tabela-verdade\n",
    "                print(f\"{ \"V\" if p == 1 else \"F\" }  {\"V\" if q == 1 else \"F\"}  {\"V\" if r == 1 else \"F\"}  {\"V\" if s == 1 else \"F\"}    {\"V\" if imp_pq == 1 else \"F\"}      {\"V\" if imp_rs == 1 else \"F\"}      { \"V\" if disj_pr == 1 else \"F\"}         {\"V\" if conj == 1 else \"F\"}                      {\"V\" if disj_qs == 1 else \"F\"}     {\"V\" if dilema_construtivo == 1 else \"F\"}\")\n"
   ]
  }
 ],
 "metadata": {
  "kernelspec": {
   "display_name": "Python 3",
   "language": "python",
   "name": "python3"
  },
  "language_info": {
   "codemirror_mode": {
    "name": "ipython",
    "version": 3
   },
   "file_extension": ".py",
   "mimetype": "text/x-python",
   "name": "python",
   "nbconvert_exporter": "python",
   "pygments_lexer": "ipython3",
   "version": "3.12.0"
  }
 },
 "nbformat": 4,
 "nbformat_minor": 2
}
